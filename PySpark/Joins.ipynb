{
 "cells": [
  {
   "cell_type": "code",
   "execution_count": 0,
   "metadata": {
    "application/vnd.databricks.v1+cell": {
     "cellMetadata": {
      "byteLimit": 2048000,
      "rowLimit": 10000
     },
     "inputWidgets": {},
     "nuid": "73599a84-0535-4e67-8e38-f62f861375b9",
     "showTitle": false,
     "tableResultSettingsMap": {},
     "title": ""
    }
   },
   "outputs": [
    {
     "output_type": "stream",
     "name": "stdout",
     "output_type": "stream",
     "text": [
      "+-----------+------+--------+-------+\n|customer_id|  name|order_id|product|\n+-----------+------+--------+-------+\n|          1| Marwa|     101| iPhone|\n|          1| Marwa|     102|MacBook|\n|          2|Medhat|     103|T-Shirt|\n+-----------+------+--------+-------+\n\n+-----------+------+--------+-------+\n|customer_id|  name|order_id|product|\n+-----------+------+--------+-------+\n|          1| Marwa|     101| iPhone|\n|          1| Marwa|     102|MacBook|\n|          2|Medhat|     103|T-Shirt|\n+-----------+------+--------+-------+\n\n+-----------+------+--------+-------+\n|customer_id|  name|order_id|product|\n+-----------+------+--------+-------+\n|          1| Marwa|     102|MacBook|\n|          1| Marwa|     101| iPhone|\n|          2|Medhat|     103|T-Shirt|\n|          3|   Ali|    null|   null|\n|          4|  Said|    null|   null|\n+-----------+------+--------+-------+\n\n+-----------+------+--------+-------+\n|customer_id|  name|order_id|product|\n+-----------+------+--------+-------+\n|          1| Marwa|     101| iPhone|\n|          1| Marwa|     102|MacBook|\n|          2|Medhat|     103|T-Shirt|\n|          5|  null|     104|  Shoes|\n+-----------+------+--------+-------+\n\n+-----------+------+--------+-------+\n|customer_id|  name|order_id|product|\n+-----------+------+--------+-------+\n|          1| Marwa|     101| iPhone|\n|          1| Marwa|     102|MacBook|\n|          2|Medhat|     103|T-Shirt|\n|          3|   Ali|    null|   null|\n|          4|  Said|    null|   null|\n|          5|  null|     104|  Shoes|\n+-----------+------+--------+-------+\n\n+-----------+--------+-------+------+\n|customer_id|order_id|product|  name|\n+-----------+--------+-------+------+\n|          1|     101| iPhone| Marwa|\n|          1|     102|MacBook| Marwa|\n|          2|     103|T-Shirt|Medhat|\n+-----------+--------+-------+------+\n\n"
     ]
    }
   ],
   "source": [
    "from pyspark.sql import SparkSession\n",
    "from pyspark.sql.functions import broadcast\n",
    "\n",
    "# Create Spark session\n",
    "spark = SparkSession.builder \\\n",
    "    .appName(\"Join Types Lab\") \\\n",
    "    .master(\"local[*]\") \\\n",
    "    .getOrCreate()\n",
    "\n",
    "# Sample Data\n",
    "customers_data = [(1, \"Marwa\"), (2, \"Medhat\"), (3, \"Ali\"), (4, \"Said\")]\n",
    "orders_data = [(101, 1, \"iPhone\"), (102, 1, \"MacBook\"), (103, 2, \"T-Shirt\"), (104, 5, \"Shoes\")]\n",
    "\n",
    "# Create DataFrames\n",
    "customers_df = spark.createDataFrame(customers_data, [\"customer_id\", \"name\"])\n",
    "orders_df = spark.createDataFrame(orders_data, [\"order_id\", \"customer_id\", \"product\"])\n",
    "\n",
    "# Register as temp views for SQL\n",
    "customers_df.createOrReplaceTempView(\"customers\")\n",
    "orders_df.createOrReplaceTempView(\"orders\")\n",
    "\n",
    "\n",
    "\n",
    "# Inner Join\n",
    "customers_df.join(orders_df, \"customer_id\", \"inner\").show()\n",
    "\n",
    "# SQL\n",
    "spark.sql(\"\"\"\n",
    "SELECT c.*, o.order_id, o.product \n",
    "FROM customers c \n",
    "JOIN orders o ON c.customer_id = o.customer_id\n",
    "\"\"\").show()\n",
    "\n",
    "\n",
    "# Left Join\n",
    "customers_df.join(orders_df, \"customer_id\", \"left\").show()\n",
    "\n",
    "\n",
    "# Right Join\n",
    "customers_df.join(orders_df, \"customer_id\", \"right\").show()\n",
    "\n",
    "\n",
    "# Full Outer Join\n",
    "customers_df.join(orders_df, \"customer_id\", \"outer\").show()\n",
    "\n",
    "\n",
    "# Broadcast Join (Optimization)\n",
    "# Broadcast is useful when one table is small enough to fit in memory and avoid shuffling large data.\n",
    "# Broadcasting small customers_df\n",
    "orders_df.join(broadcast(customers_df), \"customer_id\").show()"
   ]
  }
 ],
 "metadata": {
  "application/vnd.databricks.v1+notebook": {
   "computePreferences": null,
   "dashboards": [],
   "environmentMetadata": {
    "base_environment": "",
    "environment_version": "1"
   },
   "inputWidgetPreferences": null,
   "language": "python",
   "notebookMetadata": {
    "pythonIndentUnit": 4
   },
   "notebookName": "Untitled Notebook 2025-05-17 15:59:16",
   "widgets": {}
  }
 },
 "nbformat": 4,
 "nbformat_minor": 0
}